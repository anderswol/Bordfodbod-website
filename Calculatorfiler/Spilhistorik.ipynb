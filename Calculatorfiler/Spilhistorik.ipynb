{
 "cells": [
  {
   "cell_type": "code",
   "execution_count": 1,
   "metadata": {},
   "outputs": [],
   "source": [
    "import json\n",
    "# File path to store match history\n",
    "match_history_file = 'match_history.json'\n",
    "\n",
    "# List to store match data\n",
    "match_history = []\n",
    "\n",
    "# Function to load match history from file\n",
    "def load_match_history():\n",
    "    global match_history\n",
    "    try:\n",
    "        with open(match_history_file, 'r') as file:\n",
    "            match_history = json.load(file)\n",
    "    except FileNotFoundError:\n",
    "        # If the file doesn't exist, initialize match_history as an empty list\n",
    "        match_history = []\n",
    "# Function to display the 10 most recent matches in reverse order\n",
    "def display_match_history():\n",
    "    print(\"\\nRecent Matches:\")\n",
    "    for match in reversed(match_history[-10:]):\n",
    "        print(\"{} vs {} - Score: {}-{}\".format(match['name1'], match['name2'], match['score1'], match['score2']))\n"
   ]
  },
  {
   "cell_type": "code",
   "execution_count": 3,
   "metadata": {},
   "outputs": [
    {
     "name": "stdout",
     "output_type": "stream",
     "text": [
      "\n",
      "Recent Matches:\n",
      "Aske vs Sagar - Score: 0-10\n",
      "Aske vs Sagar - Score: 7-10\n"
     ]
    }
   ],
   "source": [
    "# Load and display match history\n",
    "load_match_history()\n",
    "display_match_history()"
   ]
  }
 ],
 "metadata": {
  "kernelspec": {
   "display_name": "base",
   "language": "python",
   "name": "python3"
  },
  "language_info": {
   "codemirror_mode": {
    "name": "ipython",
    "version": 3
   },
   "file_extension": ".py",
   "mimetype": "text/x-python",
   "name": "python",
   "nbconvert_exporter": "python",
   "pygments_lexer": "ipython3",
   "version": "3.9.12"
  }
 },
 "nbformat": 4,
 "nbformat_minor": 2
}
