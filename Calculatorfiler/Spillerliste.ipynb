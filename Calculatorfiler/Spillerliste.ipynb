{
 "cells": [
  {
   "cell_type": "code",
   "execution_count": 1,
   "metadata": {},
   "outputs": [],
   "source": [
    "import json\n",
    "\n",
    "# File path to store player rankings\n",
    "player_rankings_file = 'player_rankings.json'\n",
    "\n",
    "# Function to load player rankings from file\n",
    "def load_player_rankings():\n",
    "    try:\n",
    "        with open(player_rankings_file, 'r') as file:\n",
    "            player_rankings = json.load(file)\n",
    "    except FileNotFoundError:\n",
    "        # If the file doesn't exist, initialize player_rankings as an empty dictionary\n",
    "        player_rankings = {}\n",
    "    return player_rankings\n",
    "\n",
    "# Function to save player rankings to file\n",
    "def save_player_rankings(player_rankings):\n",
    "    with open(player_rankings_file, 'w') as file:\n",
    "        json.dump(player_rankings, file)\n",
    "\n",
    "# Function to add or alter a player in player rankings\n",
    "def add_or_alter_player():\n",
    "    player_rankings = load_player_rankings()\n",
    "\n",
    "    while True:\n",
    "        name = input(\"Enter the player's name: \")\n",
    "\n",
    "        if name in player_rankings:\n",
    "            choice = input(\"Player '{}' already exists. Do you want to change the name? (y/n): \".format(name))\n",
    "            if choice.lower() == 'y':\n",
    "                new_name = input(\"Enter the new name: \")\n",
    "                player_rankings[new_name] = player_rankings.pop(name)  # Change the player's name\n",
    "                save_player_rankings(player_rankings)\n",
    "                print(\"Player '{}' renamed successfully to '{}'.\".format(name, new_name))\n",
    "                break\n",
    "            else:\n",
    "                print(\"No changes made.\")\n",
    "                break\n",
    "        else:\n",
    "            value = float(input(\"Enter the player's value: \"))\n",
    "            player_rankings[name] = value\n",
    "            save_player_rankings(player_rankings)\n",
    "            print(\"Player '{}' added successfully with value {}.\".format(name, value))\n",
    "            break\n",
    "\n",
    "# Function to display the list of player rankings\n",
    "def display_player_rankings():\n",
    "    player_rankings = load_player_rankings()\n",
    "\n",
    "    if not player_rankings:\n",
    "        print(\"No player rankings available.\")\n",
    "    else:\n",
    "        print(\"Player Rankings:\")\n",
    "        for name, value in player_rankings.items():\n",
    "            print(\"{}: {}\".format(name, int(value)))"
   ]
  },
  {
   "cell_type": "code",
   "execution_count": 8,
   "metadata": {},
   "outputs": [
    {
     "name": "stdout",
     "output_type": "stream",
     "text": [
      "Player 'Anders' added successfully with value 1000.0.\n"
     ]
    }
   ],
   "source": [
    "# Example usage\n",
    "add_or_alter_player()"
   ]
  },
  {
   "cell_type": "code",
   "execution_count": 5,
   "metadata": {},
   "outputs": [
    {
     "name": "stdout",
     "output_type": "stream",
     "text": [
      "Player Rankings:\n",
      "Aske: 1000\n"
     ]
    }
   ],
   "source": [
    "display_player_rankings()"
   ]
  }
 ],
 "metadata": {
  "kernelspec": {
   "display_name": "base",
   "language": "python",
   "name": "python3"
  },
  "language_info": {
   "codemirror_mode": {
    "name": "ipython",
    "version": 3
   },
   "file_extension": ".py",
   "mimetype": "text/x-python",
   "name": "python",
   "nbconvert_exporter": "python",
   "pygments_lexer": "ipython3",
   "version": "3.9.12"
  }
 },
 "nbformat": 4,
 "nbformat_minor": 2
}
