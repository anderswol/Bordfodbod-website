{
 "cells": [
  {
   "cell_type": "code",
   "execution_count": 1,
   "metadata": {},
   "outputs": [],
   "source": [
    "import json\n",
    "\n",
    "# File path to store player rankings\n",
    "player_rankings_file = 'player_rankings.json'\n",
    "\n",
    "# Global variable for default player value\n",
    "default_player_value = 1000\n",
    "\n",
    "# Function to load player rankings from file\n",
    "def load_player_rankings():\n",
    "    try:\n",
    "        with open(player_rankings_file, 'r') as file:\n",
    "            player_rankings = json.load(file)\n",
    "    except FileNotFoundError:\n",
    "        # If the file doesn't exist, initialize player_rankings as an empty dictionary\n",
    "        player_rankings = {}\n",
    "    return player_rankings\n",
    "\n",
    "# Function to save player rankings to file\n",
    "def save_player_rankings(player_rankings):\n",
    "    with open(player_rankings_file, 'w') as file:\n",
    "        json.dump(player_rankings, file)\n",
    "\n",
    "# Function to reset all player values to a default value\n",
    "def reset_all_player_values():\n",
    "    global default_player_value\n",
    "\n",
    "    # Ask for confirmation\n",
    "    confirmation = input(\"Are you sure you want to reset all player values to {}? (yes/no): \".format(default_player_value)).lower()\n",
    "\n",
    "    if confirmation != 'yes':\n",
    "        print(\"Reset canceled.\")\n",
    "        return\n",
    "\n",
    "    # Load current player rankings\n",
    "    player_rankings = load_player_rankings()\n",
    "\n",
    "    # Confirm reset\n",
    "    confirmation = input(\"This will reset all player values. Are you absolutely sure? (yes/no): \").lower()\n",
    "\n",
    "    if confirmation != 'yes':\n",
    "        print(\"Reset canceled.\")\n",
    "        return\n",
    "\n",
    "    # Reset all player values to the default value\n",
    "    for player in player_rankings:\n",
    "        player_rankings[player] = default_player_value\n",
    "\n",
    "    # Save the updated player rankings\n",
    "    save_player_rankings(player_rankings)\n",
    "\n",
    "    print(\"All player values reset to {}.\".format(default_player_value))"
   ]
  },
  {
   "cell_type": "code",
   "execution_count": 9,
   "metadata": {},
   "outputs": [
    {
     "name": "stdout",
     "output_type": "stream",
     "text": [
      "All player values reset to 1000.\n"
     ]
    }
   ],
   "source": [
    "reset_all_player_values()"
   ]
  }
 ],
 "metadata": {
  "kernelspec": {
   "display_name": "base",
   "language": "python",
   "name": "python3"
  },
  "language_info": {
   "codemirror_mode": {
    "name": "ipython",
    "version": 3
   },
   "file_extension": ".py",
   "mimetype": "text/x-python",
   "name": "python",
   "nbconvert_exporter": "python",
   "pygments_lexer": "ipython3",
   "version": "3.9.12"
  }
 },
 "nbformat": 4,
 "nbformat_minor": 2
}
